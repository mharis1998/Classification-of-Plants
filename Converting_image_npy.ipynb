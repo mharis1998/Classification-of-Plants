{
 "cells": [
  {
   "cell_type": "code",
   "execution_count": 1,
   "id": "e8810aab-754b-4244-81f7-49fc9d10e1db",
   "metadata": {},
   "outputs": [],
   "source": [
    "import numpy as np\n",
    "from PIL import Image as im\n",
    "import pandas as pd\n",
    "import os\n",
    "import cv2\n",
    "from matplotlib import pyplot as plt\n",
    "import itertools as it\n",
    "import seaborn as sns\n",
    "from tensorflow import keras \n",
    "from sklearn.model_selection import train_test_split\n",
    "from sklearn.preprocessing import OneHotEncoder\n",
    "from tensorflow.keras.models import Sequential\n",
    "from tensorflow.keras.layers import (\n",
    "    Dense,\n",
    "    Conv2D,\n",
    "    MaxPool2D,\n",
    "    Flatten,\n",
    "    Dropout,\n",
    "    BatchNormalization,\n",
    ")\n",
    "from tensorflow.keras.wrappers.scikit_learn import KerasClassifier\n",
    "from sklearn.model_selection import RandomizedSearchCV\n",
    "from tensorflow.keras.preprocessing.image import ImageDataGenerator\n",
    "from sklearn.metrics import classification_report\n",
    "from sklearn.metrics import confusion_matrix\n",
    "from keras.regularizers import l2\n",
    "import random\n",
    "import csv"
   ]
  },
  {
   "cell_type": "code",
   "execution_count": 51,
   "id": "efb5b7da-38f0-4200-806d-e33669278f9a",
   "metadata": {},
   "outputs": [
    {
     "name": "stdout",
     "output_type": "stream",
     "text": [
      "['Apple___Black_rot', 'Apple___healthy', 'Grape___Black_rot', 'Grape___healthy', 'Peach___Bacterial_spot', 'Peach___healthy', 'Potato___healthy', 'Potato___Late_blight', 'Tomato___Bacterial_spot', 'Tomato___healthy']\n"
     ]
    }
   ],
   "source": [
    "DataDir='Dataset/train'\n",
    "Categories=[]\n",
    "for i in os.listdir(DataDir):\n",
    "    Categories.append(i)\n",
    "print(Categories)"
   ]
  },
  {
   "cell_type": "code",
   "execution_count": 52,
   "id": "91165683-0ac3-4816-a293-1bca876f87f4",
   "metadata": {},
   "outputs": [],
   "source": [
    "Data=[]\n",
    "def creating_Data():\n",
    "    for categories in Categories:\n",
    "        path=os.path.join(DataDir,categories)\n",
    "        class_num=Categories.index(categories)\n",
    "        for img in os.listdir(path):\n",
    "            try:\n",
    "                img=cv2.imread(os.path.join(path,img))\n",
    "                Data.append([img,categories])\n",
    "            except Exceprtion as e:\n",
    "                pass\n",
    "creating_Data()"
   ]
  },
  {
   "cell_type": "code",
   "execution_count": 53,
   "id": "00cb5f7e-2f97-436a-9fb2-7a718e2df955",
   "metadata": {},
   "outputs": [
    {
     "name": "stdout",
     "output_type": "stream",
     "text": [
      "8804\n"
     ]
    }
   ],
   "source": [
    "print(len(Data))"
   ]
  },
  {
   "cell_type": "code",
   "execution_count": 54,
   "id": "36395ce1-3e5c-435d-817f-d7e11cddb5aa",
   "metadata": {},
   "outputs": [],
   "source": [
    "random.shuffle(Data)"
   ]
  },
  {
   "cell_type": "code",
   "execution_count": 55,
   "id": "ca55465b-8c26-4fa6-b9ab-6dc27551d973",
   "metadata": {},
   "outputs": [
    {
     "name": "stdout",
     "output_type": "stream",
     "text": [
      "Tomato___Bacterial_spot\n",
      "Peach___Bacterial_spot\n",
      "Tomato___Bacterial_spot\n",
      "Peach___Bacterial_spot\n",
      "Peach___Bacterial_spot\n",
      "Tomato___Bacterial_spot\n",
      "Potato___Late_blight\n",
      "Peach___Bacterial_spot\n",
      "Grape___Black_rot\n",
      "Apple___Black_rot\n"
     ]
    }
   ],
   "source": [
    "for sample in Data[:10]:\n",
    "    print(sample[1])"
   ]
  },
  {
   "cell_type": "code",
   "execution_count": 56,
   "id": "8a620635-a4db-4b7d-b887-8c7328822a37",
   "metadata": {},
   "outputs": [],
   "source": [
    "X=[] # Images for training and validation\n",
    "Y=[] # Labels for training and Validation"
   ]
  },
  {
   "cell_type": "code",
   "execution_count": 57,
   "id": "e0bfd0bd-3663-4419-b430-b1bc0f4f9df9",
   "metadata": {},
   "outputs": [],
   "source": [
    "for image,label in Data:\n",
    "    X.append(image)\n",
    "    Y.append(label)\n",
    "    "
   ]
  },
  {
   "cell_type": "code",
   "execution_count": 58,
   "id": "594eb4d4-de8c-4a43-bea8-46ee7d2f8ee3",
   "metadata": {},
   "outputs": [
    {
     "name": "stdout",
     "output_type": "stream",
     "text": [
      "['Tomato___Bacterial_spot', 'Peach___Bacterial_spot', 'Tomato___Bacterial_spot', 'Peach___Bacterial_spot', 'Peach___Bacterial_spot', 'Tomato___Bacterial_spot', 'Potato___Late_blight', 'Peach___Bacterial_spot', 'Grape___Black_rot', 'Apple___Black_rot']\n"
     ]
    }
   ],
   "source": [
    "print(Y[:10])"
   ]
  },
  {
   "cell_type": "code",
   "execution_count": 59,
   "id": "717f181a-cc76-4d4d-bd64-22f917f099ff",
   "metadata": {},
   "outputs": [],
   "source": [
    "np.save('train_Images.npy',X) #saving"
   ]
  },
  {
   "cell_type": "code",
   "execution_count": 60,
   "id": "f75afde3-c86e-45df-926a-dd44339cabee",
   "metadata": {},
   "outputs": [],
   "source": [
    "# opening the csv file in 'w+' mode\n",
    "#file = open('label.csv', 'w+')\n",
    "header='label'\n",
    "# writing the data into the file\n",
    "with open('train_labels.csv', 'w', encoding='UTF8', newline='') as f:\n",
    "    writer = csv.writer(f)\n",
    "    # write the header\n",
    "    writer.writerow(header)\n",
    "    # write the data\n",
    "    writer.writerow(Y)"
   ]
  },
  {
   "cell_type": "code",
   "execution_count": 61,
   "id": "af34f360-d8a9-4d1f-9df5-e5dee8e4ed75",
   "metadata": {},
   "outputs": [],
   "source": [
    "df = pd.DataFrame(Y)\n",
    "df.to_csv('train_labels.csv', index=False)"
   ]
  },
  {
   "cell_type": "code",
   "execution_count": 66,
   "id": "52660cc9-7783-45d1-bfe0-e597679d9633",
   "metadata": {},
   "outputs": [],
   "source": [
    "labels=pd.read_csv('test_labels.csv')"
   ]
  },
  {
   "cell_type": "code",
   "execution_count": 67,
   "id": "e2674ee1-0a20-49b2-92d9-f067e72b1d33",
   "metadata": {},
   "outputs": [
    {
     "data": {
      "text/html": [
       "<div>\n",
       "<style scoped>\n",
       "    .dataframe tbody tr th:only-of-type {\n",
       "        vertical-align: middle;\n",
       "    }\n",
       "\n",
       "    .dataframe tbody tr th {\n",
       "        vertical-align: top;\n",
       "    }\n",
       "\n",
       "    .dataframe thead th {\n",
       "        text-align: right;\n",
       "    }\n",
       "</style>\n",
       "<table border=\"1\" class=\"dataframe\">\n",
       "  <thead>\n",
       "    <tr style=\"text-align: right;\">\n",
       "      <th></th>\n",
       "      <th>Label</th>\n",
       "    </tr>\n",
       "  </thead>\n",
       "  <tbody>\n",
       "    <tr>\n",
       "      <th>0</th>\n",
       "      <td>Peach___Bacterial_spot</td>\n",
       "    </tr>\n",
       "    <tr>\n",
       "      <th>1</th>\n",
       "      <td>Potato___Late_blight</td>\n",
       "    </tr>\n",
       "    <tr>\n",
       "      <th>2</th>\n",
       "      <td>Tomato___Bacterial_spot</td>\n",
       "    </tr>\n",
       "    <tr>\n",
       "      <th>3</th>\n",
       "      <td>Tomato___Bacterial_spot</td>\n",
       "    </tr>\n",
       "    <tr>\n",
       "      <th>4</th>\n",
       "      <td>Apple___healthy</td>\n",
       "    </tr>\n",
       "    <tr>\n",
       "      <th>...</th>\n",
       "      <td>...</td>\n",
       "    </tr>\n",
       "    <tr>\n",
       "      <th>2587</th>\n",
       "      <td>Peach___Bacterial_spot</td>\n",
       "    </tr>\n",
       "    <tr>\n",
       "      <th>2588</th>\n",
       "      <td>Tomato___Bacterial_spot</td>\n",
       "    </tr>\n",
       "    <tr>\n",
       "      <th>2589</th>\n",
       "      <td>Grape___Black_rot</td>\n",
       "    </tr>\n",
       "    <tr>\n",
       "      <th>2590</th>\n",
       "      <td>Tomato___healthy</td>\n",
       "    </tr>\n",
       "    <tr>\n",
       "      <th>2591</th>\n",
       "      <td>Apple___Black_rot</td>\n",
       "    </tr>\n",
       "  </tbody>\n",
       "</table>\n",
       "<p>2592 rows × 1 columns</p>\n",
       "</div>"
      ],
      "text/plain": [
       "                        Label\n",
       "0      Peach___Bacterial_spot\n",
       "1        Potato___Late_blight\n",
       "2     Tomato___Bacterial_spot\n",
       "3     Tomato___Bacterial_spot\n",
       "4             Apple___healthy\n",
       "...                       ...\n",
       "2587   Peach___Bacterial_spot\n",
       "2588  Tomato___Bacterial_spot\n",
       "2589        Grape___Black_rot\n",
       "2590         Tomato___healthy\n",
       "2591        Apple___Black_rot\n",
       "\n",
       "[2592 rows x 1 columns]"
      ]
     },
     "execution_count": 67,
     "metadata": {},
     "output_type": "execute_result"
    }
   ],
   "source": [
    "labels"
   ]
  },
  {
   "cell_type": "code",
   "execution_count": null,
   "id": "94c91f1b-b255-4660-9dc9-f41dcc90d1bf",
   "metadata": {},
   "outputs": [],
   "source": []
  }
 ],
 "metadata": {
  "kernelspec": {
   "display_name": "Python 3 (ipykernel)",
   "language": "python",
   "name": "python3"
  },
  "language_info": {
   "codemirror_mode": {
    "name": "ipython",
    "version": 3
   },
   "file_extension": ".py",
   "mimetype": "text/x-python",
   "name": "python",
   "nbconvert_exporter": "python",
   "pygments_lexer": "ipython3",
   "version": "3.9.0"
  }
 },
 "nbformat": 4,
 "nbformat_minor": 5
}
